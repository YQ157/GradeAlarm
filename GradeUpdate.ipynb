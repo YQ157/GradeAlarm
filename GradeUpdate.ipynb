{
 "cells": [
  {
   "cell_type": "code",
   "execution_count": 14,
   "id": "0c8a8ba6-6ee5-491e-a408-a4c5306f89c2",
   "metadata": {},
   "outputs": [],
   "source": [
    "from selenium import webdriver\n",
    "from selenium.webdriver.common.by import By\n",
    "from selenium.webdriver.common.keys import Keys\n",
    "from selenium.webdriver.chrome.options import Options\n",
    "from selenium.webdriver.support.ui import WebDriverWait\n",
    "from selenium.webdriver.support import expected_conditions as EC\n",
    "import requests\n",
    "import time\n",
    "import re\n",
    "import sys\n",
    "import configparser\n",
    "import yagmail"
   ]
  },
  {
   "cell_type": "code",
   "execution_count": 15,
   "id": "b9b2f793-80b3-4d70-85a4-67871a205d42",
   "metadata": {},
   "outputs": [
    {
     "name": "stdout",
     "output_type": "stream",
     "text": [
      "账号： 2210410324\n",
      "密码： Qxeswdzca157.\n"
     ]
    }
   ],
   "source": [
    "config = configparser.ConfigParser()\n",
    "config.read('config.ini', encoding='utf-8')  # 此处建议更换为绝对路径，虚拟环境可能不能定位绝对路径\n",
    "if not config:\n",
    "    sys.exit(\"配置文件不存在或无法访问\")\n",
    "try:\n",
    "    username = config.get('User','username')\n",
    "    password = config.get('User','password')\n",
    "    semesterId = config.get('Semester','id')\n",
    "    emailUser = config.get('Email','user')\n",
    "    emailPassword = config.get('Email','password')\n",
    "    if not config.has_section('Grade'):\n",
    "        config.add_section('Grade')\n",
    "    if not config.has_option('Grade','count'):\n",
    "        config.set('Grade','count','0')\n",
    "    with open('config.ini','w') as configfile:\n",
    "        config.write(configfile)\n",
    "    gradeCount = config.get('Grade','count')\n",
    "except:\n",
    "    sys.exit(\"配置错误\")\n",
    "print('账号：',username)\n",
    "print('密码：',password)\n",
    "chrome_options = Options()\n",
    "chrome_options.add_argument(\"--headless\")  # 启用无头模式\n",
    "chrome_options.add_argument(\"--disable-gpu\")  # 关闭 GPU 加速\n",
    "chrome_options.add_argument(\"--no-sandbox\")"
   ]
  },
  {
   "cell_type": "code",
   "execution_count": 16,
   "id": "73687475-665b-48c6-b9a5-e96e5cbfbce3",
   "metadata": {},
   "outputs": [],
   "source": [
    "driver = webdriver.Chrome(options=chrome_options)\n",
    "driver.get('https://auth.cumtb.edu.cn/authserver/login?service=https%3A%2F%2Fjwxt.cumtb.edu.cn%2Fstudent%2Fsso%2Flogin')\n",
    "time.sleep(2)"
   ]
  },
  {
   "cell_type": "code",
   "execution_count": 18,
   "id": "7210921e-c2a9-4f32-87aa-ac7e32bbd991",
   "metadata": {},
   "outputs": [],
   "source": [
    "username_input = driver.find_element(By.XPATH, '//*[@id=\"login-normal\"]/div/form/div[1]/nz-input-group/input') \n",
    "username_input.send_keys(username)\n",
    "\n",
    "# 定位到密码输入框并填写\n",
    "password_input = driver.find_element(By.XPATH, '//*[@id=\"login-normal\"]/div/form/div[2]/nz-input-group/input')  \n",
    "password_input.send_keys(password)\n",
    "\n",
    "# 定位到登录按钮并点击\n",
    "wait = WebDriverWait(driver, 5)\n",
    "login_button = wait.until(EC.element_to_be_clickable((By.XPATH, '//*[@id=\"login-normal\"]/div[2]/form/div[6]/div/button')))\n",
    "login_button.click()\n",
    "# login_button = driver.find_element(By.XPATH, '//*[@id=\"submitBtn\"]') \n",
    "# login_button.click()\n",
    "\n",
    "# 等待登录操作完成，可以根据实际情况调整等待时间\n",
    "time.sleep(5)"
   ]
  },
  {
   "cell_type": "code",
   "execution_count": 19,
   "id": "30701a36-63c8-496c-babe-568b07f82f40",
   "metadata": {},
   "outputs": [
    {
     "name": "stdout",
     "output_type": "stream",
     "text": [
      "登录成功！\n",
      "还是运行了\n"
     ]
    }
   ],
   "source": [
    "try:\n",
    "    if driver.session_id:\n",
    "        welcome_message = driver.find_element(By.XPATH, '//*[@id=\"app\"]/div/div[1]/div/div/div[1]/div/div[2]/div[2]/div/span[2]') \n",
    "        print(\"登录成功！\")\n",
    "except:\n",
    "    print(\"登录失败！\")\n",
    "    if driver.session_id:\n",
    "        driver.quit()  # 关闭浏览器\n",
    "    sys.exit(\"登录失败\")\n",
    "print(\"还是运行了\")\n",
    "driver.get(\"https://jwxt.cumtb.edu.cn/student/for-std/grade/sheet\")\n",
    "time.sleep(1)\n",
    "url = driver.current_url\n",
    "cookies = driver.get_cookies()\n",
    "driver.quit()"
   ]
  },
  {
   "cell_type": "code",
   "execution_count": 20,
   "id": "603672ce-4a46-484d-b13a-b2b2e6aa940e",
   "metadata": {},
   "outputs": [
    {
     "name": "stdout",
     "output_type": "stream",
     "text": [
      "49285\n",
      "https://jwxt.cumtb.edu.cn/student/for-std/grade/sheet/semester-index/49285\n"
     ]
    }
   ],
   "source": [
    "match = re.search(r\"\\d+\",url)\n",
    "if match:\n",
    "    studentID = match.group()\n",
    "    print(studentID)\n",
    "else: \n",
    "    studentID = -1\n",
    "    print(\"发生了某些错误，获取studentID失败\")\n",
    "print(url)"
   ]
  },
  {
   "cell_type": "code",
   "execution_count": 21,
   "id": "f40358ef-083b-4df3-bbd4-f68011c2dedf",
   "metadata": {},
   "outputs": [
    {
     "name": "stdout",
     "output_type": "stream",
     "text": [
      "__managerid___47c71ac48e14a9acc5d4f93694d9a78b|d201aa3a4ffaffbfc5324f6244ccf435\n",
      "SESSION_705a06f9-8ee5-4a01-898b-5bf898dc2997\n"
     ]
    }
   ],
   "source": [
    "for cookie in cookies:\n",
    "    print(f\"{cookie['name']}_{cookie['value']}\")"
   ]
  },
  {
   "cell_type": "code",
   "execution_count": 22,
   "id": "6c17fe9a-4b4f-43d0-ad91-231d92c45d33",
   "metadata": {},
   "outputs": [
    {
     "name": "stdout",
     "output_type": "stream",
     "text": [
      "成功\n"
     ]
    }
   ],
   "source": [
    "if studentID != -1:\n",
    "    cookie_jar = {}\n",
    "    for cookie in cookies:\n",
    "        cookie_jar[cookie['name']] = cookie['value']\n",
    "    gradeUrl = f\"https://jwxt.cumtb.edu.cn/student/for-std/grade/sheet/get-grade-data/{studentID}?semesterId=\"\n",
    "    response = requests.get(gradeUrl,cookies=cookie_jar)\n",
    "    data = response.json()\n",
    "    data = data['studentGradeList']\n",
    "    semester = data['id2semesters']\n",
    "    semesterId = next((k for k,v in semester.items() if v['name'] == semesterId),None)\n",
    "    if semesterId:\n",
    "        count_t = len(data['semesterId2studentGrades'][semesterId])\n",
    "        if int(gradeCount) < count_t:\n",
    "            try:\n",
    "                email_subject = f\"已有新科目出成绩，当前{count_t}科，上次{gradeCount}科\"\n",
    "                email_content = '\\n'.join([f\"{i['course']['nameZh']}:{i['gaGrade']}\" for i in data['semesterId2studentGrades'][semesterId]])\n",
    "            except:\n",
    "                sys.exit(\"成绩单生成失败\")\n",
    "            try:\n",
    "                yag = yagmail.SMTP(user=emailUser,password=emailPassword,host='smtp.qq.com',port=465) # 自行配置 smtp 服务器，此处以 qq 为例\n",
    "                yag.send(to=emailUser,subject=email_subject,contents=email_content)\n",
    "            except:\n",
    "                sys.exit(\"邮件发送失败\")\n",
    "            gradeCount = count_t\n",
    "            config.set('Grade','count',str(gradeCount))\n",
    "            with open('config.ini','w') as configfile:  # 此处建议更换为绝对路径，虚拟环境可能不能定位绝对路径\n",
    "                config.write(configfile)\n",
    "            print(\"成功\")"
   ]
  },
  {
   "cell_type": "code",
   "execution_count": null,
   "id": "290f73ac-4589-4cfe-8d23-11885ce808a1",
   "metadata": {},
   "outputs": [],
   "source": []
  }
 ],
 "metadata": {
  "kernelspec": {
   "display_name": "Python [conda env:base] *",
   "language": "python",
   "name": "conda-base-py"
  },
  "language_info": {
   "codemirror_mode": {
    "name": "ipython",
    "version": 3
   },
   "file_extension": ".py",
   "mimetype": "text/x-python",
   "name": "python",
   "nbconvert_exporter": "python",
   "pygments_lexer": "ipython3",
   "version": "3.12.7"
  }
 },
 "nbformat": 4,
 "nbformat_minor": 5
}
